{
 "cells": [
  {
   "cell_type": "code",
   "execution_count": 1,
   "metadata": {},
   "outputs": [],
   "source": [
    "from PIL import Image, ImageOps\n",
    "import numpy as np\n",
    "import sys\n",
    "import os, cv2\n",
    "import csv\n",
    "import pandas as pd"
   ]
  },
  {
   "cell_type": "code",
   "execution_count": 19,
   "metadata": {},
   "outputs": [],
   "source": [
    "def createFileList(myDir, format='.png'):\n",
    "    fileList = []\n",
    "    print(myDir)\n",
    "    for root, dirs, files in os.walk(myDir, topdown=False):\n",
    "        for name in files:\n",
    "            if name.endswith(format):\n",
    "                fullName = os.path.join(root, name)\n",
    "                fileList.append(fullName)\n",
    "    return fileList"
   ]
  },
  {
   "cell_type": "code",
   "execution_count": 28,
   "metadata": {},
   "outputs": [],
   "source": [
    "columnNames = list()\n",
    "for i in range(12544):\n",
    "    pixel = 'p'\n",
    "    pixel += str(i)\n",
    "    columnNames.append(pixel)"
   ]
  },
  {
   "cell_type": "code",
   "execution_count": 29,
   "metadata": {},
   "outputs": [
    {
     "name": "stdout",
     "output_type": "stream",
     "text": [
      "['ક', 'ક્ષ', 'ખ', 'ગ', 'ઘ', 'ચ', 'છ', 'જ', 'જ્ઞ', 'ઝ', 'ટ', 'ઠ', 'ડ', 'ઢ', 'ણ', 'ત', 'ત્ર', 'થ', 'દ', 'ધ', 'ન', 'પ', 'ફ', 'બ', 'ભ', 'મ', 'ય', 'ર', 'લ', 'ળ', 'વ', 'શ', 'ષ', 'સ', 'હ']\n"
     ]
    }
   ],
   "source": [
    "l = os.listdir('D:\\\\6th Sem\\\\SGP - II\\\\Dataset\\\\Preprocessing\\\\test')\n",
    "print(l)"
   ]
  },
  {
   "cell_type": "code",
   "execution_count": 30,
   "metadata": {},
   "outputs": [
    {
     "name": "stdout",
     "output_type": "stream",
     "text": [
      "{'ક': 0, 'ક્ષ': 1, 'ખ': 2, 'ગ': 3, 'ઘ': 4, 'ચ': 5, 'છ': 6, 'જ': 7, 'જ્ઞ': 8, 'ઝ': 9, 'ટ': 10, 'ઠ': 11, 'ડ': 12, 'ઢ': 13, 'ણ': 14, 'ત': 15, 'ત્ર': 16, 'થ': 17, 'દ': 18, 'ધ': 19, 'ન': 20, 'પ': 21, 'ફ': 22, 'બ': 23, 'ભ': 24, 'મ': 25, 'ય': 26, 'ર': 27, 'લ': 28, 'ળ': 29, 'વ': 30, 'શ': 31, 'ષ': 32, 'સ': 33, 'હ': 34}\n"
     ]
    }
   ],
   "source": [
    "dic = {val : idx for idx, val in enumerate(l)}\n",
    "print(dic)"
   ]
  },
  {
   "cell_type": "code",
   "execution_count": 31,
   "metadata": {},
   "outputs": [
    {
     "name": "stdout",
     "output_type": "stream",
     "text": [
      "D:\\6th Sem\\SGP - II\\Dataset\\Datasets\\Original\\ક\n",
      "D:\\6th Sem\\SGP - II\\Dataset\\Datasets\\Original\\ક્ષ\n",
      "D:\\6th Sem\\SGP - II\\Dataset\\Datasets\\Original\\ખ\n",
      "D:\\6th Sem\\SGP - II\\Dataset\\Datasets\\Original\\ગ\n",
      "D:\\6th Sem\\SGP - II\\Dataset\\Datasets\\Original\\ઘ\n",
      "D:\\6th Sem\\SGP - II\\Dataset\\Datasets\\Original\\ચ\n",
      "D:\\6th Sem\\SGP - II\\Dataset\\Datasets\\Original\\છ\n",
      "D:\\6th Sem\\SGP - II\\Dataset\\Datasets\\Original\\જ\n",
      "D:\\6th Sem\\SGP - II\\Dataset\\Datasets\\Original\\જ્ઞ\n",
      "D:\\6th Sem\\SGP - II\\Dataset\\Datasets\\Original\\ઝ\n",
      "D:\\6th Sem\\SGP - II\\Dataset\\Datasets\\Original\\ટ\n",
      "D:\\6th Sem\\SGP - II\\Dataset\\Datasets\\Original\\ઠ\n",
      "D:\\6th Sem\\SGP - II\\Dataset\\Datasets\\Original\\ડ\n",
      "D:\\6th Sem\\SGP - II\\Dataset\\Datasets\\Original\\ઢ\n",
      "D:\\6th Sem\\SGP - II\\Dataset\\Datasets\\Original\\ણ\n",
      "D:\\6th Sem\\SGP - II\\Dataset\\Datasets\\Original\\ત\n",
      "D:\\6th Sem\\SGP - II\\Dataset\\Datasets\\Original\\ત્ર\n",
      "D:\\6th Sem\\SGP - II\\Dataset\\Datasets\\Original\\થ\n",
      "D:\\6th Sem\\SGP - II\\Dataset\\Datasets\\Original\\દ\n",
      "D:\\6th Sem\\SGP - II\\Dataset\\Datasets\\Original\\ધ\n",
      "D:\\6th Sem\\SGP - II\\Dataset\\Datasets\\Original\\ન\n",
      "D:\\6th Sem\\SGP - II\\Dataset\\Datasets\\Original\\પ\n",
      "D:\\6th Sem\\SGP - II\\Dataset\\Datasets\\Original\\ફ\n",
      "D:\\6th Sem\\SGP - II\\Dataset\\Datasets\\Original\\બ\n",
      "D:\\6th Sem\\SGP - II\\Dataset\\Datasets\\Original\\ભ\n",
      "D:\\6th Sem\\SGP - II\\Dataset\\Datasets\\Original\\મ\n",
      "D:\\6th Sem\\SGP - II\\Dataset\\Datasets\\Original\\ય\n",
      "D:\\6th Sem\\SGP - II\\Dataset\\Datasets\\Original\\ર\n",
      "D:\\6th Sem\\SGP - II\\Dataset\\Datasets\\Original\\લ\n",
      "D:\\6th Sem\\SGP - II\\Dataset\\Datasets\\Original\\ળ\n",
      "D:\\6th Sem\\SGP - II\\Dataset\\Datasets\\Original\\વ\n",
      "D:\\6th Sem\\SGP - II\\Dataset\\Datasets\\Original\\શ\n",
      "D:\\6th Sem\\SGP - II\\Dataset\\Datasets\\Original\\ષ\n",
      "D:\\6th Sem\\SGP - II\\Dataset\\Datasets\\Original\\સ\n",
      "D:\\6th Sem\\SGP - II\\Dataset\\Datasets\\Original\\હ\n"
     ]
    }
   ],
   "source": [
    "train_data = pd.DataFrame(columns = columnNames)\n",
    "train_data.to_csv(\"trainset_112_L.csv\",index = False)\n",
    "label_count = list()\n",
    "for i in range(len(l)):\n",
    "    mydir='D:\\\\6th Sem\\\\SGP - II\\\\Dataset\\\\Datasets\\\\Original\\\\'+l[i]\n",
    "    fileList = createFileList(mydir)\n",
    "    for file in fileList:\n",
    "        img_file = Image.open(file) # imgfile.show()\n",
    "        \n",
    "        # get original image parameters...\n",
    "        width, height = img_file.size\n",
    "        format = img_file.format\n",
    "        mode = img_file.mode\n",
    "        \n",
    "        label_count.append(dic[l[i]])\n",
    "        \n",
    "        im_invert = ImageOps.invert(img_file)\n",
    "\n",
    "        size = (112,112)\n",
    "        new_image = img_file.resize(size)\n",
    "\n",
    "        # Make image Greyscale\n",
    "        img_grey = new_image.convert('L')\n",
    "        #img_grey.save('result.png')\n",
    "        #img_grey.show()\n",
    "\n",
    "        # Save Greyscale values\n",
    "        value = np.asarray(img_grey.getdata(), dtype=np.int).reshape((img_grey.size[1], img_grey.size[0]))\n",
    "        value = value.flatten()\n",
    "        with open(\"trainset_112_L.csv\", 'a', newline='') as f:\n",
    "            writer = csv.writer(f)\n",
    "            writer.writerow(value)\n",
    "#print(label_count)"
   ]
  },
  {
   "cell_type": "code",
   "execution_count": 32,
   "metadata": {},
   "outputs": [
    {
     "name": "stdout",
     "output_type": "stream",
     "text": [
      "       p0   p1   p2   p3   p4   p5   p6   p7   p8   p9  ...  p12535  p12536  \\\n",
      "0     255  242  251  251  250  248  246  248  249  248  ...     248     250   \n",
      "1     255  252  254  255  255  250  244  248  255  253  ...     255     255   \n",
      "2     243  255  255  255  255  255  255  255  248  246  ...     251     255   \n",
      "3     249  249  249  249  249  249  249  254  254  254  ...     245     246   \n",
      "4     251  251  255  246  250  253  251  251  241  250  ...     253     251   \n",
      "...   ...  ...  ...  ...  ...  ...  ...  ...  ...  ...  ...     ...     ...   \n",
      "7206  251  252  250  254  254  254  254  254  254  254  ...     255     253   \n",
      "7207  240  244  246  251  251  254  246  249  246  255  ...     254     246   \n",
      "7208  255  254  252  249  253  253  254  255  249  254  ...     239     218   \n",
      "7209  249  252  244  255  255  254  255  255  253  252  ...     250     250   \n",
      "7210  247  255  255  255  255  255  255  255  255  255  ...     254     254   \n",
      "\n",
      "      p12537  p12538  p12539  p12540  p12541  p12542  p12543  Label  \n",
      "0        250     252     255     244     254     239     254      0  \n",
      "1        255     255     255     255     255     255     255      0  \n",
      "2        254     248     255     255     252     253     252      0  \n",
      "3        251     253     250     248     249     255     255      0  \n",
      "4        250     250     251     253     254     251     247      0  \n",
      "...      ...     ...     ...     ...     ...     ...     ...    ...  \n",
      "7206     255     252     255     253     255     255     251     34  \n",
      "7207     247     254     251     255     247     238     251     34  \n",
      "7208     214     213     216     192     198     249     205     34  \n",
      "7209     250     250     250     250     250     248     250     34  \n",
      "7210     254     254     254     254     254     254     254     34  \n",
      "\n",
      "[7211 rows x 12545 columns]\n",
      "Empty DataFrame\n",
      "Columns: [p0, p1, p2, p3, p4, p5, p6, p7, p8, p9, p10, p11, p12, p13, p14, p15, p16, p17, p18, p19, p20, p21, p22, p23, p24, p25, p26, p27, p28, p29, p30, p31, p32, p33, p34, p35, p36, p37, p38, p39, p40, p41, p42, p43, p44, p45, p46, p47, p48, p49, p50, p51, p52, p53, p54, p55, p56, p57, p58, p59, p60, p61, p62, p63, p64, p65, p66, p67, p68, p69, p70, p71, p72, p73, p74, p75, p76, p77, p78, p79, p80, p81, p82, p83, p84, p85, p86, p87, p88, p89, p90, p91, p92, p93, p94, p95, p96, p97, p98, p99, ...]\n",
      "Index: []\n",
      "\n",
      "[0 rows x 12544 columns]\n"
     ]
    }
   ],
   "source": [
    "read_data = pd.read_csv('trainset_112_L.csv')\n",
    "read_data['Label'] = label_count\n",
    "print(read_data)\n",
    "#Write back dataframe to csv\n",
    "read_data.to_csv(\"train_112_L.csv\",index = False)\n",
    "print(train_data)"
   ]
  },
  {
   "cell_type": "code",
   "execution_count": null,
   "metadata": {},
   "outputs": [],
   "source": []
  },
  {
   "cell_type": "code",
   "execution_count": null,
   "metadata": {},
   "outputs": [],
   "source": []
  },
  {
   "cell_type": "code",
   "execution_count": null,
   "metadata": {},
   "outputs": [],
   "source": []
  },
  {
   "cell_type": "code",
   "execution_count": null,
   "metadata": {},
   "outputs": [],
   "source": []
  },
  {
   "cell_type": "code",
   "execution_count": null,
   "metadata": {},
   "outputs": [],
   "source": []
  },
  {
   "cell_type": "code",
   "execution_count": null,
   "metadata": {},
   "outputs": [],
   "source": []
  },
  {
   "cell_type": "code",
   "execution_count": null,
   "metadata": {},
   "outputs": [],
   "source": []
  },
  {
   "cell_type": "code",
   "execution_count": null,
   "metadata": {},
   "outputs": [],
   "source": []
  },
  {
   "cell_type": "code",
   "execution_count": null,
   "metadata": {},
   "outputs": [],
   "source": []
  },
  {
   "cell_type": "code",
   "execution_count": null,
   "metadata": {},
   "outputs": [],
   "source": []
  },
  {
   "cell_type": "code",
   "execution_count": null,
   "metadata": {},
   "outputs": [],
   "source": []
  },
  {
   "cell_type": "code",
   "execution_count": null,
   "metadata": {},
   "outputs": [],
   "source": [
    "#dictionary = {0: '0', 1: '1', 2: '2', 3: '3', 4: '4', 5: '5', 6: '6', 7: '7', 8: '8', 9: '9', 10: 'અ', 11: 'અં', 12: 'અઃ', 13: 'આ', 14: 'ઇ', 15: 'ઈ', 16: 'ઉ', 17: 'ઊ', 18: 'ઋ', 19: 'એ', 20: 'ઐ', 21: 'ઓ', 22: 'ઔ', 23: 'ક', 24: 'કં', 25: 'કઃ', 26: 'કા', 27: 'કિ', 28: 'કી', 29: 'કુ', 30: 'કૂ', 31: 'કૃ', 32: 'કે', 33: 'કૈ', 34: 'કો', 35: 'કૌ', 36: 'ક્ષ', 37: 'ક્ષં', 38: 'ક્ષઃ', 39: 'ક્ષા', 40: 'ક્ષિ', 41: 'ક્ષી', 42: 'ક્ષુ', 43: 'ક્ષૂ', 44: 'ક્ષે', 45: 'ક્ષૈ', 46: 'ક્ષો', 47: 'ક્ષૌ', 48: 'ખ', 49: 'ખં', 50: 'ખઃ', 51: 'ખા', 52: 'ખિ', 53: 'ખી', 54: 'ખુ', 55: 'ખૂ', 56: 'ખે', 57: 'ખૈ', 58: 'ખો', 59: 'ખૌ', 60: 'ગ', 61: 'ગં', 62: 'ગઃ', 63: 'ગા', 64: 'ગિ', 65: 'ગી', 66: 'ગુ', 67: 'ગૂ', 68: 'ગે', 69: 'ગૈ', 70: 'ગો', 71: 'ગૌ', 72: 'ઘ', 73: 'ઘં', 74: 'ઘઃ', 75: 'ઘા', 76: 'ઘિ', 77: 'ઘી', 78: 'ઘુ', 79: 'ઘૂ', 80: 'ઘે', 81: 'ઘૈ', 82: 'ઘો', 83: 'ઘૌ', 84: 'ચ', 85: 'ચં', 86: 'ચઃ', 87: 'ચા', 88: 'ચિ', 89: 'ચી', 90: 'ચુ', 91: 'ચૂ', 92: 'ચે', 93: 'ચૈ', 94: 'ચો', 95: 'ચૌ', 96: 'છ', 97: 'છં', 98: 'છઃ', 99: 'છા', 100: 'છિ', 101: 'છી', 102: 'છુ', 103: 'છૂ', 104: 'છે', 105: 'છૈ', 106: 'છો', 107: 'છૌ', 108: 'જ', 109: 'જઃ', 110: 'જા', 111: 'જિ', 112: 'જી', 113: 'જુ', 114: 'જૂ', 115: 'જે', 116: 'જૈ', 117: 'જો', 118: 'જૌ', 119: 'જ્ઞ', 120: 'જ્ઞં', 121: 'જ્ઞઃ', 122: 'જ્ઞા', 123: 'જ્ઞિ', 124: 'જ્ઞી', 125: 'જ્ઞુ', 126: 'જ્ઞૂ', 127: 'જ્ઞે', 128: 'જ્ઞૈ', 129: 'જ્ઞો', 130: 'જ્ઞૌ', 131: 'ઝ', 132: 'ઝં', 133: 'ઝઃ', 134: 'ઝા', 135: 'ઝિ', 136: 'ઝી', 137: 'ઝુ', 138: 'ઝૂ', 139: 'ઝે', 140: 'ઝૈ', 141: 'ઝો', 142: 'ઝૌ', 143: 'ઞ', 144: 'ટ', 145: 'ટં', 146: 'ટઃ', 147: 'ટા', 148: 'ટિ', 149: 'ટી', 150: 'ટુ', 151: 'ટૂ', 152: 'ટે', 153: 'ટૈ', 154: 'ટો', 155: 'ટૌ', 156: 'ઠ', 157: 'ઠં', 158: 'ઠઃ', 159: 'ઠા', 160: 'ઠિ', 161: 'ઠી', 162: 'ઠુ', 163: 'ઠૂ', 164: 'ઠે', 165: 'ઠૈ', 166: 'ઠો', 167: 'ઠૌ', 168: 'ડ', 169: 'ડં', 170: 'ડઃ', 171: 'ડા', 172: 'ડિ', 173: 'ડી', 174: 'ડુ', 175: 'ડૂ', 176: 'ડે', 177: 'ડૈ', 178: 'ડો', 179: 'ડૌ', 180: 'ઢ', 181: 'ઢં', 182: 'ઢઃ', 183: 'ઢા', 184: 'ઢિ', 185: 'ઢી', 186: 'ઢુ', 187: 'ઢૂ', 188: 'ઢે', 189: 'ઢૈ', 190: 'ઢો', 191: 'ઢૌ', 192: 'ણ', 193: 'ણં', 194: 'ણઃ', 195: 'ણા', 196: 'ણિ', 197: 'ણી', 198: 'ણુ', 199: 'ણૂ', 200: 'ણે', 201: 'ણૈ', 202: 'ણો', 203: 'ણૌ', 204: 'ત', 205: 'તં', 206: 'તઃ', 207: 'તા', 208: 'તિ', 209: 'તી', 210: 'તુ', 211: 'તૂ', 212: 'તે', 213: 'તૈ', 214: 'તો', 215: 'તૌ', 216: 'ત્ર', 217: 'ત્રં', 218: 'ત્રા', 219: 'ત્રિ', 220: 'ત્રી', 221: 'ત્રુ', 222: 'ત્રૂ', 223: 'ત્રે', 224: 'ત્રૈ', 225: 'ત્રો', 226: 'ત્રૌ', 227: 'થ', 228: 'થં', 229: 'થઃ', 230: 'થા', 231: 'થિ', 232: 'થી', 233: 'થુ', 234: 'થૂ', 235: 'થે', 236: 'થૈ', 237: 'થો', 238: 'થૌ', 239: 'દ', 240: 'દં', 241: 'દઃ', 242: 'દા', 243: 'દિ', 244: 'દી', 245: 'દુ', 246: 'દૂ', 247: 'દે', 248: 'દૈ', 249: 'દો', 250: 'દૌ', 251: 'દ્ર', 252: 'ધ', 253: 'ધં', 254: 'ધઃ', 255: 'ધા', 256: 'ધિ', 257: 'ધી', 258: 'ધુ', 259: 'ધૂ', 260: 'ધે', 261: 'ધૈ', 262: 'ધો', 263: 'ધૌ', 264: 'ન', 265: 'નં', 266: 'નઃ', 267: 'ના', 268: 'નિ', 269: 'ની', 270: 'નુ', 271: 'નૂ', 272: 'ને', 273: 'નૈ', 274: 'નો', 275: 'નૌ', 276: 'પ', 277: 'પં', 278: 'પઃ', 279: 'પા', 280: 'પિ', 281: 'પી', 282: 'પુ', 283: 'પૂ', 284: 'પે', 285: 'પૈ', 286: 'પો', 287: 'પૌ', 288: 'ફ', 289: 'ફં', 290: 'ફઃ', 291: 'ફા', 292: 'ફિ', 293: 'ફી', 294: 'ફુ', 295: 'ફૂ', 296: 'ફે', 297: 'ફૈ', 298: 'ફો', 299: 'ફૌ', 300: 'બ', 301: 'બં', 302: 'બઃ', 303: 'બા', 304: 'બિ', 305: 'બી', 306: 'બુ', 307: 'બૂ', 308: 'બે', 309: 'બૈ', 310: 'બો', 311: 'બૌ', 312: 'ભ', 313: 'ભં', 314: 'ભઃ', 315: 'ભા', 316: 'ભિ', 317: 'ભી', 318: 'ભુ', 319: 'ભૂ', 320: 'ભે', 321: 'ભૈ', 322: 'ભો', 323: 'ભૌ', 324: 'મ', 325: 'મં', 326: 'મઃ', 327: 'મા', 328: 'મિ', 329: 'મી', 330: 'મુ', 331: 'મૂ', 332: 'મે', 333: 'મૈ', 334: 'મો', 335: 'મૌ', 336: 'ય', 337: 'યં', 338: 'યઃ', 339: 'યા', 340: 'યિ', 341: 'યી', 342: 'યુ', 343: 'યૂ', 344: 'યે', 345: 'યૈ', 346: 'યો', 347: 'યૌ', 348: 'ર', 349: 'રં', 350: 'રઃ', 351: 'રા', 352: 'રિ', 353: 'રી', 354: 'રુ', 355: 'રૂ', 356: 'રે', 357: 'રૈ', 358: 'રો', 359: 'રૌ', 360: 'લ', 361: 'લં', 362: 'લઃ', 363: 'લા', 364: 'લિ', 365: 'લી', 366: 'લુ', 367: 'લૂ', 368: 'લે', 369: 'લૈ', 370: 'લો', 371: 'લૌ', 372: 'ળ', 373: 'ળં', 374: 'ળઃ', 375: 'ળા', 376: 'ળિ', 377: 'ળી', 378: 'ળુ', 379: 'ળૂ', 380: 'ળે', 381: 'ળૈ', 382: 'ળો', 383: 'ળૌ', 384: 'વ', 385: 'વં', 386: 'વઃ', 387: 'વા', 388: 'વિ', 389: 'વી', 390: 'વુ', 391: 'વૂ', 392: 'વે', 393: 'વૈ', 394: 'વો', 395: 'વૌ', 396: 'શ', 397: 'શં', 398: 'શઃ', 399: 'શા', 400: 'શિ', 401: 'શી', 402: 'શુ', 403: 'શૂ', 404: 'શે', 405: 'શૈ', 406: 'શો', 407: 'શૌ', 408: 'શ્ર', 409: 'શ્રા', 410: 'ષ', 411: 'ષં', 412: 'ષઃ', 413: 'ષા', 414: 'ષિ', 415: 'ષી', 416: 'ષુ', 417: 'ષૂ', 418: 'ષે', 419: 'ષૈ', 420: 'ષો', 421: 'ષૌ', 422: 'સ', 423: 'સં', 424: 'સઃ', 425: 'સા', 426: 'સિ', 427: 'સી', 428: 'સુ', 429: 'સૂ', 430: 'સે', 431: 'સૈ', 432: 'સો', 433: 'સૌ', 434: 'હ', 435: 'હં', 436: 'હઃ', 437: 'હા', 438: 'હિ', 439: 'હી', 440: 'હુ', 441: 'હૂ', 442: 'હે', 443: 'હૈ', 444: 'હો', 445: 'હૌ'}\n"
   ]
  },
  {
   "cell_type": "code",
   "execution_count": 8,
   "metadata": {},
   "outputs": [
    {
     "name": "stdout",
     "output_type": "stream",
     "text": [
      "255 255 255 255 255 255 255 255 255 255 255 255 255 255 255 255 255 255 255 255 255 255 255 255 255 255 255 255\n",
      "255 255 255 255 255 255 255 255 255 255 255 255 255 255 255 255 255 255 255 255 255 255 255 255 255 255 255 255\n",
      "255 255 255 255 255 255 255 255 255 255 255 255 255 255 255 255 255 255 255 255 255 255 255 255 255 255 255 255\n",
      "255 255 255 255 255 255 255 255 255 255 255 255 255 255 255 255 255 255 255 255 255 255 255 255 255 255 255 255\n",
      "255 255 255 255 255 255 255 255 255 255 255 255 255 255 255 255 255 255 255 255 255 255 255 255 255 255 255 255\n",
      "255 255 255 255 255 255 255 255 255 255 255 255 255 255 255 255 255 255 255 255 255 255 255 255 255 255 255 255\n",
      "255 255 255 255 255 255 255 255 255 255 255 255 255 255 255 255 255 255 255 255 255 255 255 255 255 255 255 255\n",
      "255 255 255 255 255 255 255 255 255 255 255 255 255   0   0   0   0 255 255 255 255 255 255 255 255 255 255 255\n",
      "255 255 255 255 255 255 255 255 255 255   0   0 255 255 255 255 255   0 255 255 255 255 255 255 255 255 255 255\n",
      "255 255 255 255 255 255 255 255 255 255 255 255 255 255 255 255 255   0 255 255 255 255 255 255 255 255 255 255\n",
      "255 255 255 255 255 255 255 255 255 255 255 255 255 255 255 255   0 255 255 255 255 255 255 255 255   0 255 255\n",
      "255 255 255 255 255 255 255 255 255 255 255 255 255 255 255 255 255 255 255 255 255 255 255 255 255 255 255 255\n",
      "255 255 255 255 255 255 255 255 255   0   0 255 255 255 255 255 255 255 255 255 255 255 255 255 255 255 255 255\n",
      "255 255 255 255 255 255 255 255 255 255 255   0 255   0 255 255 255 255 255 255 255 255 255 255 255 255 255 255\n",
      "255 255 255 255 255 255 255 255 255 255 255 255 255   0 255 255 255 255 255 255 255 255 255 255 255 255 255 255\n",
      "255 255 255 255 255 255 255 255 255 255 255 255 255   0   0 255   0 255 255 255 255 255 255 255 255 255 255 255\n",
      "255 255 255 255 255 255 255 255 255 255 255 255 255   0 255   0 255 255 255 255 255 255 255 255 255 255 255 255\n",
      "255 255 255 255 255 255 255 255 255 255 255 255 255 255 255 255   0 255 255 255 255 255 255 255 255 255 255 255\n",
      "255 255 255 255 255 255 255 255 255 255 255 255 255 255 255 255 255 255 255 255 255 255 255 255 255 255 255 255\n",
      "255 255 255 255 255 255 255 255 255 255 255 255 255 255 255 255 255   0 255 255 255 255 255 255 255 255 255 255\n",
      "255 255 255 255 255 255 255 255 255 255 255   0   0 255 255   0   0 255 255 255 255 255 255 255 255 255 255 255\n",
      "255 255 255 255 255 255   0 255 255 255 255 255 255   0   0   0 255 255 255 255 255 255   0 255 255 255 255 255\n",
      "255 255 255 255 255 255 255 255 255 255 255 255 255 255 255 255 255 255 255 255 255 255 255 255 255 255 255 255\n",
      "255 255 255 255 255 255 255 255 255 255 255 255 255 255 255 255 255 255 255 255 255 255 255 255 255 255 255 255\n",
      "255 255 255 255 255 255 255 255 255 255 255 255 255 255 255 255 255 255 255 255 255 255 255 255 255 255 255 255\n",
      "255 255 255 255 255 255 255 255 255 255 255 255 255 255 255 255 255 255 255 255 255   0 255 255 255 255 255 255\n",
      "255 255 255 255 255 255 255 255 255 255 255 255 255 255 255 255 255 255 255 255 255 255 255 255 255 255 255 255\n",
      "255 255 255 255 255 255 255 255 255 255 255 255 255 255 255 255 255 255 255 255 255 255 255 255 255 255 255 255\n",
      "\n",
      "                                                       \n",
      "                                                       \n",
      "                                                       \n",
      "                                                       \n",
      "                                                       \n",
      "                                                       \n",
      "                                                       \n",
      "                          # # # #                      \n",
      "                    # #           #                    \n",
      "                                  #                    \n",
      "                                #                 #    \n",
      "                                                       \n",
      "                  # #                                  \n",
      "                      #   #                            \n",
      "                          #                            \n",
      "                          # #   #                      \n",
      "                          #   #                        \n",
      "                                #                      \n",
      "                                                       \n",
      "                                  #                    \n",
      "                      # #     # #                      \n",
      "            #             # # #             #          \n",
      "                                                       \n",
      "                                                       \n",
      "                                                       \n",
      "                                          #            \n",
      "                                                       \n",
      "                                                       \n"
     ]
    }
   ],
   "source": [
    "from PIL import Image\n",
    "\n",
    "img = Image.open('D:\\\\6th Sem\\\\SGP - II\\\\Dataset\\\\Dataset(original)\\\\ક\\\\ક_3.png').convert('1')  # convert image to 8-bit grayscale\n",
    "size = (28,28)\n",
    "img=img.resize(size)\n",
    "img.show()\n",
    "WIDTH, HEIGHT = img.size\n",
    "data = list(img.getdata()) # convert image data to a list of integers\n",
    "# convert that to 2D list (list of lists of integers)\n",
    "data = [data[offset:offset+WIDTH] for offset in range(0, WIDTH*HEIGHT, WIDTH)]\n",
    "\n",
    "# At this point the image's pixels are all in memory and can be accessed\n",
    "# individually using data[row][col].\n",
    "\n",
    "# For example:\n",
    "for row in data:\n",
    "    print(' '.join('{:3}'.format(value) for value in row))\n",
    "\n",
    "# Here's another more compact representation.\n",
    "chars = '########. '  # Change as desired.\n",
    "scale = (len(chars)-1)/255.\n",
    "print()\n",
    "for row in data:\n",
    "    print(' '.join(chars[int(value*scale)] for value in row))"
   ]
  },
  {
   "cell_type": "code",
   "execution_count": 36,
   "metadata": {},
   "outputs": [
    {
     "data": {
      "text/plain": [
       "9"
      ]
     },
     "execution_count": 36,
     "metadata": {},
     "output_type": "execute_result"
    }
   ],
   "source": [
    "dic['9']"
   ]
  },
  {
   "cell_type": "code",
   "execution_count": 38,
   "metadata": {},
   "outputs": [
    {
     "ename": "UnicodeEncodeError",
     "evalue": "'charmap' codec can't encode character '\\u0a85' in position 3: character maps to <undefined>",
     "output_type": "error",
     "traceback": [
      "\u001b[1;31m---------------------------------------------------------------------------\u001b[0m",
      "\u001b[1;31mUnicodeEncodeError\u001b[0m                        Traceback (most recent call last)",
      "\u001b[1;32m<ipython-input-38-bd2ac555ac61>\u001b[0m in \u001b[0;36m<module>\u001b[1;34m\u001b[0m\n\u001b[0;32m      6\u001b[0m             \u001b[0mf\u001b[0m\u001b[1;33m.\u001b[0m\u001b[0mwrite\u001b[0m\u001b[1;33m(\u001b[0m\u001b[1;34m\"%s,%s\\n\"\u001b[0m\u001b[1;33m%\u001b[0m\u001b[1;33m(\u001b[0m\u001b[0mdic\u001b[0m\u001b[1;33m[\u001b[0m\u001b[0mkey\u001b[0m\u001b[1;33m]\u001b[0m\u001b[1;33m,\u001b[0m\u001b[0mkey\u001b[0m\u001b[1;33m)\u001b[0m\u001b[1;33m)\u001b[0m\u001b[1;33m\u001b[0m\u001b[0m\n\u001b[0;32m      7\u001b[0m         \u001b[1;32melse\u001b[0m\u001b[1;33m:\u001b[0m\u001b[1;33m\u001b[0m\u001b[0m\n\u001b[1;32m----> 8\u001b[1;33m             \u001b[0mf\u001b[0m\u001b[1;33m.\u001b[0m\u001b[0mwrite\u001b[0m\u001b[1;33m(\u001b[0m\u001b[1;34m\"%s,%s\\n\"\u001b[0m\u001b[1;33m%\u001b[0m\u001b[1;33m(\u001b[0m\u001b[0mdic\u001b[0m\u001b[1;33m[\u001b[0m\u001b[0mkey\u001b[0m\u001b[1;33m]\u001b[0m\u001b[1;33m,\u001b[0m\u001b[0mkey\u001b[0m\u001b[1;33m)\u001b[0m\u001b[1;33m)\u001b[0m\u001b[1;33m\u001b[0m\u001b[0m\n\u001b[0m",
      "\u001b[1;32mc:\\users\\kirtan\\appdata\\local\\programs\\python\\python36\\lib\\encodings\\cp1252.py\u001b[0m in \u001b[0;36mencode\u001b[1;34m(self, input, final)\u001b[0m\n\u001b[0;32m     17\u001b[0m \u001b[1;32mclass\u001b[0m \u001b[0mIncrementalEncoder\u001b[0m\u001b[1;33m(\u001b[0m\u001b[0mcodecs\u001b[0m\u001b[1;33m.\u001b[0m\u001b[0mIncrementalEncoder\u001b[0m\u001b[1;33m)\u001b[0m\u001b[1;33m:\u001b[0m\u001b[1;33m\u001b[0m\u001b[0m\n\u001b[0;32m     18\u001b[0m     \u001b[1;32mdef\u001b[0m \u001b[0mencode\u001b[0m\u001b[1;33m(\u001b[0m\u001b[0mself\u001b[0m\u001b[1;33m,\u001b[0m \u001b[0minput\u001b[0m\u001b[1;33m,\u001b[0m \u001b[0mfinal\u001b[0m\u001b[1;33m=\u001b[0m\u001b[1;32mFalse\u001b[0m\u001b[1;33m)\u001b[0m\u001b[1;33m:\u001b[0m\u001b[1;33m\u001b[0m\u001b[0m\n\u001b[1;32m---> 19\u001b[1;33m         \u001b[1;32mreturn\u001b[0m \u001b[0mcodecs\u001b[0m\u001b[1;33m.\u001b[0m\u001b[0mcharmap_encode\u001b[0m\u001b[1;33m(\u001b[0m\u001b[0minput\u001b[0m\u001b[1;33m,\u001b[0m\u001b[0mself\u001b[0m\u001b[1;33m.\u001b[0m\u001b[0merrors\u001b[0m\u001b[1;33m,\u001b[0m\u001b[0mencoding_table\u001b[0m\u001b[1;33m)\u001b[0m\u001b[1;33m[\u001b[0m\u001b[1;36m0\u001b[0m\u001b[1;33m]\u001b[0m\u001b[1;33m\u001b[0m\u001b[0m\n\u001b[0m\u001b[0;32m     20\u001b[0m \u001b[1;33m\u001b[0m\u001b[0m\n\u001b[0;32m     21\u001b[0m \u001b[1;32mclass\u001b[0m \u001b[0mIncrementalDecoder\u001b[0m\u001b[1;33m(\u001b[0m\u001b[0mcodecs\u001b[0m\u001b[1;33m.\u001b[0m\u001b[0mIncrementalDecoder\u001b[0m\u001b[1;33m)\u001b[0m\u001b[1;33m:\u001b[0m\u001b[1;33m\u001b[0m\u001b[0m\n",
      "\u001b[1;31mUnicodeEncodeError\u001b[0m: 'charmap' codec can't encode character '\\u0a85' in position 3: character maps to <undefined>"
     ]
    }
   ],
   "source": [
    "#dictionary to .csv\n",
    "import csv\n",
    "with open('test_without.csv', 'w') as f:\n",
    "    for key in dic.keys():\n",
    "        if key=='0' or key=='1' or key=='2' or key=='3' or key=='4'or key=='5'or key=='6'or key=='7'or key=='8'or key=='9':\n",
    "            f.write(\"%s,%s\\n\"%(dic[key],key))\n",
    "        else:\n",
    "            f.write(\"%s,%s\\n\"%(dic[key],key))"
   ]
  },
  {
   "cell_type": "code",
   "execution_count": 52,
   "metadata": {},
   "outputs": [
    {
     "name": "stdout",
     "output_type": "stream",
     "text": [
      "[0, 1, 2, 3, 4, 5, 6, 7, 8, 9]\n",
      "[0, 1, 2, 3, 4, 5, 6, 7, 8]\n",
      "[1, 2, 3, 4, 5, 6, 7, 8, 9]\n"
     ]
    }
   ],
   "source": [
    "data = [0,1,2,3,4,5,6,7,8,9]\n",
    "print(data)\n",
    "image = data[:-1]\n",
    "label = data[1:]\n",
    "print(image)\n",
    "print(label)"
   ]
  },
  {
   "cell_type": "code",
   "execution_count": null,
   "metadata": {},
   "outputs": [],
   "source": []
  }
 ],
 "metadata": {
  "kernelspec": {
   "display_name": "Python 3",
   "language": "python",
   "name": "python3"
  },
  "language_info": {
   "codemirror_mode": {
    "name": "ipython",
    "version": 3
   },
   "file_extension": ".py",
   "mimetype": "text/x-python",
   "name": "python",
   "nbconvert_exporter": "python",
   "pygments_lexer": "ipython3",
   "version": "3.6.5"
  }
 },
 "nbformat": 4,
 "nbformat_minor": 4
}
