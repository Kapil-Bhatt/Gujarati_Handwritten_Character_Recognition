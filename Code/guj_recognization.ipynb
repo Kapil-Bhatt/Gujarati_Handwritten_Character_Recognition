{
  "nbformat": 4,
  "nbformat_minor": 0,
  "metadata": {
    "accelerator": "GPU",
    "colab": {
      "name": "recognization.ipynb",
      "provenance": [],
      "collapsed_sections": [],
      "toc_visible": true,
      "include_colab_link": true
    },
    "kernelspec": {
      "display_name": "Python 3",
      "language": "python",
      "name": "python3"
    },
    "language_info": {
      "codemirror_mode": {
        "name": "ipython",
        "version": 3
      },
      "file_extension": ".py",
      "mimetype": "text/x-python",
      "name": "python",
      "nbconvert_exporter": "python",
      "pygments_lexer": "ipython3",
      "version": "3.6.5"
    }
  },
  "cells": [
    {
      "cell_type": "markdown",
      "metadata": {
        "id": "view-in-github",
        "colab_type": "text"
      },
      "source": [
        "<a href=\"https://colab.research.google.com/github/royalk2c/Guj_Hand_Char_Recognition/blob/master/guj_recognization.ipynb\" target=\"_parent\"><img src=\"https://colab.research.google.com/assets/colab-badge.svg\" alt=\"Open In Colab\"/></a>"
      ]
    },
    {
      "cell_type": "code",
      "metadata": {
        "colab_type": "code",
        "id": "_N2Yx4xpn9I9",
        "outputId": "992533cf-11c1-4a2f-f47f-73084a1a87bf",
        "colab": {
          "base_uri": "https://localhost:8080/",
          "height": 120
        }
      },
      "source": [
        "from google.colab import drive\n",
        "drive.mount('/content/drive')"
      ],
      "execution_count": 1,
      "outputs": [
        {
          "output_type": "stream",
          "text": [
            "Go to this URL in a browser: https://accounts.google.com/o/oauth2/auth?client_id=947318989803-6bn6qk8qdgf4n4g3pfee6491hc0brc4i.apps.googleusercontent.com&redirect_uri=urn%3aietf%3awg%3aoauth%3a2.0%3aoob&response_type=code&scope=email%20https%3a%2f%2fwww.googleapis.com%2fauth%2fdocs.test%20https%3a%2f%2fwww.googleapis.com%2fauth%2fdrive%20https%3a%2f%2fwww.googleapis.com%2fauth%2fdrive.photos.readonly%20https%3a%2f%2fwww.googleapis.com%2fauth%2fpeopleapi.readonly\n",
            "\n",
            "Enter your authorization code:\n",
            "··········\n",
            "Mounted at /content/drive\n"
          ],
          "name": "stdout"
        }
      ]
    },
    {
      "cell_type": "code",
      "metadata": {
        "id": "7f_fxSqmQieQ",
        "colab_type": "code",
        "colab": {
          "base_uri": "https://localhost:8080/",
          "height": 34
        },
        "outputId": "a021a5b1-2317-4e27-d8c6-0bb10c5f9d1c"
      },
      "source": [
        "from __future__ import print_function\n",
        "%tensorflow_version 1.x \n",
        "import keras\n",
        "from keras.datasets import mnist\n",
        "from keras.models import Sequential\n",
        "from keras.layers import Dense, Dropout, Flatten\n",
        "from keras.layers import Conv2D, MaxPooling2D\n",
        "from keras import backend as K\n",
        "import pandas as pd\n",
        "import numpy as np\n",
        "import matplotlib.pyplot as pyplot\n",
        "import matplotlib.pyplot as plt"
      ],
      "execution_count": 2,
      "outputs": [
        {
          "output_type": "stream",
          "text": [
            "Using TensorFlow backend.\n"
          ],
          "name": "stderr"
        }
      ]
    },
    {
      "cell_type": "code",
      "metadata": {
        "colab_type": "code",
        "id": "z7Af6o_GoLsN",
        "outputId": "84422fd1-6baa-49e0-bfae-e3248847bfb6",
        "colab": {
          "base_uri": "https://localhost:8080/",
          "height": 1000
        }
      },
      "source": [
        "batch_size = 100  \n",
        "num_classes = 446  #446 characters\n",
        "epochs = 40\n",
        "\n",
        "# input image dimensions\n",
        "img_rows, img_cols = 28,28\n",
        "\n",
        "read=pd.read_csv(\"/content/drive/My Drive/DT/CSV File/train_28_split.csv\").values\n",
        "arr=np.array\n",
        "arr = read.reshape(29890,28,28,1)\n",
        "x_train=arr\n",
        "readt=pd.read_csv(\"/content/drive/My Drive/DT/CSV File/test_28_split.csv\").values\n",
        "arrt=np.array\n",
        "arrt = readt.reshape(17,28,28,1)\n",
        "x_test=arrt\n",
        "y_train=pd.read_csv(\"/content/drive/My Drive/DT/CSV File/train_28_split_label.csv\").values\n",
        "y_test=pd.read_csv(\"/content/drive/My Drive/DT/CSV File/test_28_split_label.csv\").values\n",
        "\n",
        "# the data, split between train and test sets\n",
        "#(x_train, y_train), (x_test, y_test) = mnist.load_data()\n",
        "\n",
        "if K.image_data_format() == 'channels_first':\n",
        "    x_train = x_train.reshape(x_train.shape[0], 1, img_rows, img_cols)\n",
        "    x_test = x_test.reshape(x_test.shape[0], 1, img_rows, img_cols)\n",
        "    input_shape = (1, img_rows, img_cols)\n",
        "else:\n",
        "    x_train = x_train.reshape(x_train.shape[0], img_rows, img_cols, 1)\n",
        "    x_test = x_test.reshape(x_test.shape[0], img_rows, img_cols, 1)\n",
        "    input_shape = (img_rows, img_cols, 1)\n",
        "\n",
        "x_train = x_train.astype('float32')\n",
        "x_test = x_test.astype('float32')\n",
        "x_train /= 255\n",
        "x_test /= 255\n",
        "print('x_train shape:', x_train.shape)\n",
        "print(x_train.shape[0], 'train samples')\n",
        "print(x_test.shape[0], 'test samples')\n",
        "\n",
        "# convert class vectors to binary class matrices\n",
        "y_train = keras.utils.to_categorical(y_train, num_classes)\n",
        "y_test = keras.utils.to_categorical(y_test, num_classes)\n",
        "\n",
        "model = Sequential()\n",
        "model.add(Conv2D(32, kernel_size=(3, 3),\n",
        "                 activation='relu',\n",
        "                 input_shape=input_shape))\n",
        "model.add(Conv2D(64, (3, 3), activation='relu'))\n",
        "model.add(MaxPooling2D(pool_size=(2, 2)))\n",
        "model.add(Dropout(0.25))\n",
        "model.add(Flatten())\n",
        "model.add(Dense(128, activation='relu'))\n",
        "model.add(Dropout(0.5))\n",
        "model.add(Dense(num_classes, activation='softmax'))\n",
        "\n",
        "model.compile(loss=keras.losses.categorical_crossentropy,\n",
        "              optimizer=keras.optimizers.Adadelta(),\n",
        "              metrics=['accuracy'])\n",
        "\n",
        "model.fit(x_train, y_train,\n",
        "          batch_size=batch_size,\n",
        "          epochs=epochs,\n",
        "          verbose=1,\n",
        "          validation_data=(x_test, y_test))\n",
        "score = model.evaluate(x_test, y_test, verbose=0)\n",
        "print('Test loss:', score[0])\n",
        "print('Test accuracy:', score[1], ' (i.e) ',score[1]*100)"
      ],
      "execution_count": 26,
      "outputs": [
        {
          "output_type": "stream",
          "text": [
            "x_train shape: (29890, 28, 28, 1)\n",
            "29890 train samples\n",
            "17 test samples\n",
            "Train on 29890 samples, validate on 17 samples\n",
            "Epoch 1/40\n",
            "29890/29890 [==============================] - 3s 96us/step - loss: 5.6972 - acc: 0.0161 - val_loss: 5.4265 - val_acc: 0.0000e+00\n",
            "Epoch 2/40\n",
            "29890/29890 [==============================] - 2s 81us/step - loss: 5.0635 - acc: 0.0711 - val_loss: 4.4552 - val_acc: 0.1176\n",
            "Epoch 3/40\n",
            "29890/29890 [==============================] - 2s 81us/step - loss: 4.6288 - acc: 0.1120 - val_loss: 3.6506 - val_acc: 0.2941\n",
            "Epoch 4/40\n",
            "29890/29890 [==============================] - 2s 79us/step - loss: 4.3015 - acc: 0.1497 - val_loss: 3.1845 - val_acc: 0.3529\n",
            "Epoch 5/40\n",
            "29890/29890 [==============================] - 2s 79us/step - loss: 4.0127 - acc: 0.1802 - val_loss: 2.7139 - val_acc: 0.4118\n",
            "Epoch 6/40\n",
            "29890/29890 [==============================] - 2s 79us/step - loss: 3.7666 - acc: 0.2090 - val_loss: 2.3264 - val_acc: 0.5294\n",
            "Epoch 7/40\n",
            "29890/29890 [==============================] - 2s 79us/step - loss: 3.5683 - acc: 0.2359 - val_loss: 2.1884 - val_acc: 0.3529\n",
            "Epoch 8/40\n",
            "29890/29890 [==============================] - 2s 79us/step - loss: 3.4099 - acc: 0.2535 - val_loss: 1.7577 - val_acc: 0.7059\n",
            "Epoch 9/40\n",
            "29890/29890 [==============================] - 2s 79us/step - loss: 3.2674 - acc: 0.2753 - val_loss: 1.4171 - val_acc: 0.8235\n",
            "Epoch 10/40\n",
            "29890/29890 [==============================] - 2s 79us/step - loss: 3.1389 - acc: 0.2943 - val_loss: 1.2124 - val_acc: 0.7647\n",
            "Epoch 11/40\n",
            "29890/29890 [==============================] - 2s 80us/step - loss: 3.0336 - acc: 0.3073 - val_loss: 1.1363 - val_acc: 0.7647\n",
            "Epoch 12/40\n",
            "29890/29890 [==============================] - 2s 78us/step - loss: 2.9201 - acc: 0.3271 - val_loss: 0.9172 - val_acc: 0.8235\n",
            "Epoch 13/40\n",
            "29890/29890 [==============================] - 2s 77us/step - loss: 2.8270 - acc: 0.3426 - val_loss: 0.8426 - val_acc: 0.8235\n",
            "Epoch 14/40\n",
            "29890/29890 [==============================] - 2s 78us/step - loss: 2.7424 - acc: 0.3580 - val_loss: 0.8784 - val_acc: 0.8235\n",
            "Epoch 15/40\n",
            "29890/29890 [==============================] - 2s 79us/step - loss: 2.6378 - acc: 0.3743 - val_loss: 0.6120 - val_acc: 0.8235\n",
            "Epoch 16/40\n",
            "29890/29890 [==============================] - 2s 78us/step - loss: 2.5572 - acc: 0.3875 - val_loss: 0.6141 - val_acc: 0.8235\n",
            "Epoch 17/40\n",
            "29890/29890 [==============================] - 2s 78us/step - loss: 2.4638 - acc: 0.4020 - val_loss: 0.4350 - val_acc: 0.9412\n",
            "Epoch 18/40\n",
            "29890/29890 [==============================] - 2s 79us/step - loss: 2.3913 - acc: 0.4173 - val_loss: 0.4522 - val_acc: 0.9412\n",
            "Epoch 19/40\n",
            "29890/29890 [==============================] - 2s 78us/step - loss: 2.3112 - acc: 0.4326 - val_loss: 0.4028 - val_acc: 1.0000\n",
            "Epoch 20/40\n",
            "29890/29890 [==============================] - 2s 77us/step - loss: 2.2427 - acc: 0.4453 - val_loss: 0.3799 - val_acc: 0.9412\n",
            "Epoch 21/40\n",
            "29890/29890 [==============================] - 2s 79us/step - loss: 2.1764 - acc: 0.4594 - val_loss: 0.3314 - val_acc: 1.0000\n",
            "Epoch 22/40\n",
            "29890/29890 [==============================] - 2s 79us/step - loss: 2.1120 - acc: 0.4675 - val_loss: 0.3676 - val_acc: 1.0000\n",
            "Epoch 23/40\n",
            "29890/29890 [==============================] - 2s 78us/step - loss: 2.0545 - acc: 0.4795 - val_loss: 0.2578 - val_acc: 1.0000\n",
            "Epoch 24/40\n",
            "29890/29890 [==============================] - 2s 77us/step - loss: 1.9934 - acc: 0.4906 - val_loss: 0.2596 - val_acc: 1.0000\n",
            "Epoch 25/40\n",
            "29890/29890 [==============================] - 2s 79us/step - loss: 1.9445 - acc: 0.4988 - val_loss: 0.3541 - val_acc: 1.0000\n",
            "Epoch 26/40\n",
            "29890/29890 [==============================] - 2s 77us/step - loss: 1.8953 - acc: 0.5147 - val_loss: 0.3137 - val_acc: 1.0000\n",
            "Epoch 27/40\n",
            "29890/29890 [==============================] - 2s 78us/step - loss: 1.8497 - acc: 0.5207 - val_loss: 0.2085 - val_acc: 1.0000\n",
            "Epoch 28/40\n",
            "29890/29890 [==============================] - 2s 77us/step - loss: 1.8007 - acc: 0.5282 - val_loss: 0.2381 - val_acc: 1.0000\n",
            "Epoch 29/40\n",
            "29890/29890 [==============================] - 2s 77us/step - loss: 1.7628 - acc: 0.5359 - val_loss: 0.2275 - val_acc: 1.0000\n",
            "Epoch 30/40\n",
            "29890/29890 [==============================] - 2s 79us/step - loss: 1.7202 - acc: 0.5483 - val_loss: 0.2172 - val_acc: 0.9412\n",
            "Epoch 31/40\n",
            "29890/29890 [==============================] - 2s 78us/step - loss: 1.6807 - acc: 0.5517 - val_loss: 0.1507 - val_acc: 1.0000\n",
            "Epoch 32/40\n",
            "29890/29890 [==============================] - 2s 78us/step - loss: 1.6270 - acc: 0.5684 - val_loss: 0.1784 - val_acc: 1.0000\n",
            "Epoch 33/40\n",
            "29890/29890 [==============================] - 2s 76us/step - loss: 1.5990 - acc: 0.5727 - val_loss: 0.2037 - val_acc: 0.9412\n",
            "Epoch 34/40\n",
            "29890/29890 [==============================] - 2s 78us/step - loss: 1.5810 - acc: 0.5754 - val_loss: 0.1858 - val_acc: 1.0000\n",
            "Epoch 35/40\n",
            "29890/29890 [==============================] - 2s 78us/step - loss: 1.5561 - acc: 0.5791 - val_loss: 0.1615 - val_acc: 1.0000\n",
            "Epoch 36/40\n",
            "29890/29890 [==============================] - 2s 80us/step - loss: 1.5228 - acc: 0.5904 - val_loss: 0.1523 - val_acc: 1.0000\n",
            "Epoch 37/40\n",
            "29890/29890 [==============================] - 2s 79us/step - loss: 1.5039 - acc: 0.5956 - val_loss: 0.2009 - val_acc: 0.9412\n",
            "Epoch 38/40\n",
            "29890/29890 [==============================] - 2s 79us/step - loss: 1.4786 - acc: 0.5965 - val_loss: 0.2195 - val_acc: 0.9412\n",
            "Epoch 39/40\n",
            "29890/29890 [==============================] - 2s 79us/step - loss: 1.4577 - acc: 0.6041 - val_loss: 0.1707 - val_acc: 1.0000\n",
            "Epoch 40/40\n",
            "29890/29890 [==============================] - 2s 79us/step - loss: 1.4364 - acc: 0.6063 - val_loss: 0.1980 - val_acc: 0.9412\n",
            "Test loss: 0.19803081452846527\n",
            "Test accuracy: 0.9411764740943909  (i.e)  94.11764740943909\n"
          ],
          "name": "stdout"
        }
      ]
    },
    {
      "cell_type": "code",
      "metadata": {
        "colab_type": "code",
        "id": "svFp-hAooShr",
        "outputId": "21567b0e-a4ae-47da-a7e3-ab4e0ca27d65",
        "colab": {
          "base_uri": "https://localhost:8080/",
          "height": 281
        }
      },
      "source": [
        "dictionary = {0: '0', 1: '1', 2: '2', 3: '3', 4: '4', 5: '5', 6: '6', 7: '7', 8: '8', 9: '9', 10: 'અ', 11: 'અં', 12: 'અઃ', 13: 'આ', 14: 'ઇ', 15: 'ઈ', 16: 'ઉ', 17: 'ઊ', 18: 'ઋ', 19: 'એ', 20: 'ઐ', 21: 'ઓ', 22: 'ઔ', 23: 'ક', 24: 'કં', 25: 'કઃ', 26: 'કા', 27: 'કિ', 28: 'કી', 29: 'કુ', 30: 'કૂ', 31: 'કૃ', 32: 'કે', 33: 'કૈ', 34: 'કો', 35: 'કૌ', 36: 'ક્ષ', 37: 'ક્ષં', 38: 'ક્ષઃ', 39: 'ક્ષા', 40: 'ક્ષિ', 41: 'ક્ષી', 42: 'ક્ષુ', 43: 'ક્ષૂ', 44: 'ક્ષે', 45: 'ક્ષૈ', 46: 'ક્ષો', 47: 'ક્ષૌ', 48: 'ખ', 49: 'ખં', 50: 'ખઃ', 51: 'ખા', 52: 'ખિ', 53: 'ખી', 54: 'ખુ', 55: 'ખૂ', 56: 'ખે', 57: 'ખૈ', 58: 'ખો', 59: 'ખૌ', 60: 'ગ', 61: 'ગં', 62: 'ગઃ', 63: 'ગા', 64: 'ગિ', 65: 'ગી', 66: 'ગુ', 67: 'ગૂ', 68: 'ગે', 69: 'ગૈ', 70: 'ગો', 71: 'ગૌ', 72: 'ઘ', 73: 'ઘં', 74: 'ઘઃ', 75: 'ઘા', 76: 'ઘિ', 77: 'ઘી', 78: 'ઘુ', 79: 'ઘૂ', 80: 'ઘે', 81: 'ઘૈ', 82: 'ઘો', 83: 'ઘૌ', 84: 'ચ', 85: 'ચં', 86: 'ચઃ', 87: 'ચા', 88: 'ચિ', 89: 'ચી', 90: 'ચુ', 91: 'ચૂ', 92: 'ચે', 93: 'ચૈ', 94: 'ચો', 95: 'ચૌ', 96: 'છ', 97: 'છં', 98: 'છઃ', 99: 'છા', 100: 'છિ', 101: 'છી', 102: 'છુ', 103: 'છૂ', 104: 'છે', 105: 'છૈ', 106: 'છો', 107: 'છૌ', 108: 'જ', 109: 'જઃ', 110: 'જા', 111: 'જિ', 112: 'જી', 113: 'જુ', 114: 'જૂ', 115: 'જે', 116: 'જૈ', 117: 'જો', 118: 'જૌ', 119: 'જ્ઞ', 120: 'જ્ઞં', 121: 'જ્ઞઃ', 122: 'જ્ઞા', 123: 'જ્ઞિ', 124: 'જ્ઞી', 125: 'જ્ઞુ', 126: 'જ્ઞૂ', 127: 'જ્ઞે', 128: 'જ્ઞૈ', 129: 'જ્ઞો', 130: 'જ્ઞૌ', 131: 'ઝ', 132: 'ઝં', 133: 'ઝઃ', 134: 'ઝા', 135: 'ઝિ', 136: 'ઝી', 137: 'ઝુ', 138: 'ઝૂ', 139: 'ઝે', 140: 'ઝૈ', 141: 'ઝો', 142: 'ઝૌ', 143: 'ઞ', 144: 'ટ', 145: 'ટં', 146: 'ટઃ', 147: 'ટા', 148: 'ટિ', 149: 'ટી', 150: 'ટુ', 151: 'ટૂ', 152: 'ટે', 153: 'ટૈ', 154: 'ટો', 155: 'ટૌ', 156: 'ઠ', 157: 'ઠં', 158: 'ઠઃ', 159: 'ઠા', 160: 'ઠિ', 161: 'ઠી', 162: 'ઠુ', 163: 'ઠૂ', 164: 'ઠે', 165: 'ઠૈ', 166: 'ઠો', 167: 'ઠૌ', 168: 'ડ', 169: 'ડં', 170: 'ડઃ', 171: 'ડા', 172: 'ડિ', 173: 'ડી', 174: 'ડુ', 175: 'ડૂ', 176: 'ડે', 177: 'ડૈ', 178: 'ડો', 179: 'ડૌ', 180: 'ઢ', 181: 'ઢં', 182: 'ઢઃ', 183: 'ઢા', 184: 'ઢિ', 185: 'ઢી', 186: 'ઢુ', 187: 'ઢૂ', 188: 'ઢે', 189: 'ઢૈ', 190: 'ઢો', 191: 'ઢૌ', 192: 'ણ', 193: 'ણં', 194: 'ણઃ', 195: 'ણા', 196: 'ણિ', 197: 'ણી', 198: 'ણુ', 199: 'ણૂ', 200: 'ણે', 201: 'ણૈ', 202: 'ણો', 203: 'ણૌ', 204: 'ત', 205: 'તં', 206: 'તઃ', 207: 'તા', 208: 'તિ', 209: 'તી', 210: 'તુ', 211: 'તૂ', 212: 'તે', 213: 'તૈ', 214: 'તો', 215: 'તૌ', 216: 'ત્ર', 217: 'ત્રં', 218: 'ત્રા', 219: 'ત્રિ', 220: 'ત્રી', 221: 'ત્રુ', 222: 'ત્રૂ', 223: 'ત્રે', 224: 'ત્રૈ', 225: 'ત્રો', 226: 'ત્રૌ', 227: 'થ', 228: 'થં', 229: 'થઃ', 230: 'થા', 231: 'થિ', 232: 'થી', 233: 'થુ', 234: 'થૂ', 235: 'થે', 236: 'થૈ', 237: 'થો', 238: 'થૌ', 239: 'દ', 240: 'દં', 241: 'દઃ', 242: 'દા', 243: 'દિ', 244: 'દી', 245: 'દુ', 246: 'દૂ', 247: 'દે', 248: 'દૈ', 249: 'દો', 250: 'દૌ', 251: 'દ્ર', 252: 'ધ', 253: 'ધં', 254: 'ધઃ', 255: 'ધા', 256: 'ધિ', 257: 'ધી', 258: 'ધુ', 259: 'ધૂ', 260: 'ધે', 261: 'ધૈ', 262: 'ધો', 263: 'ધૌ', 264: 'ન', 265: 'નં', 266: 'નઃ', 267: 'ના', 268: 'નિ', 269: 'ની', 270: 'નુ', 271: 'નૂ', 272: 'ને', 273: 'નૈ', 274: 'નો', 275: 'નૌ', 276: 'પ', 277: 'પં', 278: 'પઃ', 279: 'પા', 280: 'પિ', 281: 'પી', 282: 'પુ', 283: 'પૂ', 284: 'પે', 285: 'પૈ', 286: 'પો', 287: 'પૌ', 288: 'ફ', 289: 'ફં', 290: 'ફઃ', 291: 'ફા', 292: 'ફિ', 293: 'ફી', 294: 'ફુ', 295: 'ફૂ', 296: 'ફે', 297: 'ફૈ', 298: 'ફો', 299: 'ફૌ', 300: 'બ', 301: 'બં', 302: 'બઃ', 303: 'બા', 304: 'બિ', 305: 'બી', 306: 'બુ', 307: 'બૂ', 308: 'બે', 309: 'બૈ', 310: 'બો', 311: 'બૌ', 312: 'ભ', 313: 'ભં', 314: 'ભઃ', 315: 'ભા', 316: 'ભિ', 317: 'ભી', 318: 'ભુ', 319: 'ભૂ', 320: 'ભે', 321: 'ભૈ', 322: 'ભો', 323: 'ભૌ', 324: 'મ', 325: 'મં', 326: 'મઃ', 327: 'મા', 328: 'મિ', 329: 'મી', 330: 'મુ', 331: 'મૂ', 332: 'મે', 333: 'મૈ', 334: 'મો', 335: 'મૌ', 336: 'ય', 337: 'યં', 338: 'યઃ', 339: 'યા', 340: 'યિ', 341: 'યી', 342: 'યુ', 343: 'યૂ', 344: 'યે', 345: 'યૈ', 346: 'યો', 347: 'યૌ', 348: 'ર', 349: 'રં', 350: 'રઃ', 351: 'રા', 352: 'રિ', 353: 'રી', 354: 'રુ', 355: 'રૂ', 356: 'રે', 357: 'રૈ', 358: 'રો', 359: 'રૌ', 360: 'લ', 361: 'લં', 362: 'લઃ', 363: 'લા', 364: 'લિ', 365: 'લી', 366: 'લુ', 367: 'લૂ', 368: 'લે', 369: 'લૈ', 370: 'લો', 371: 'લૌ', 372: 'ળ', 373: 'ળં', 374: 'ળઃ', 375: 'ળા', 376: 'ળિ', 377: 'ળી', 378: 'ળુ', 379: 'ળૂ', 380: 'ળે', 381: 'ળૈ', 382: 'ળો', 383: 'ળૌ', 384: 'વ', 385: 'વં', 386: 'વઃ', 387: 'વા', 388: 'વિ', 389: 'વી', 390: 'વુ', 391: 'વૂ', 392: 'વે', 393: 'વૈ', 394: 'વો', 395: 'વૌ', 396: 'શ', 397: 'શં', 398: 'શઃ', 399: 'શા', 400: 'શિ', 401: 'શી', 402: 'શુ', 403: 'શૂ', 404: 'શે', 405: 'શૈ', 406: 'શો', 407: 'શૌ', 408: 'શ્ર', 409: 'શ્રા', 410: 'ષ', 411: 'ષં', 412: 'ષઃ', 413: 'ષા', 414: 'ષિ', 415: 'ષી', 416: 'ષુ', 417: 'ષૂ', 418: 'ષે', 419: 'ષૈ', 420: 'ષો', 421: 'ષૌ', 422: 'સ', 423: 'સં', 424: 'સઃ', 425: 'સા', 426: 'સિ', 427: 'સી', 428: 'સુ', 429: 'સૂ', 430: 'સે', 431: 'સૈ', 432: 'સો', 433: 'સૌ', 434: 'હ', 435: 'હં', 436: 'હઃ', 437: 'હા', 438: 'હિ', 439: 'હી', 440: 'હુ', 441: 'હૂ', 442: 'હે', 443: 'હૈ', 444: 'હો', 445: 'હૌ'}\n",
        "example = x_test[2]\n",
        "prediction = model.predict(example.reshape(1,28,28, 1))\n",
        "#print (prediction)\n",
        "hard_maxed_prediction = np.zeros(prediction.shape)\n",
        "hard_maxed_prediction[0][np.argmax(prediction)] = 1\n",
        "#print (hard_maxed_prediction)\n",
        "\n",
        "plt.imshow(example.reshape(28,28), cmap=\"gray\")\n",
        "plt.show()\n",
        "\n",
        "print('Predicted character is:',dictionary[np.argmax(prediction)])"
      ],
      "execution_count": 27,
      "outputs": [
        {
          "output_type": "display_data",
          "data": {
            "image/png": "[encoded data removed]",
            "text/plain": [
              "<Figure size 432x288 with 1 Axes>"
            ]
          },
          "metadata": {
            "tags": []
          }
        },
        {
          "output_type": "stream",
          "text": [
            "Predicted character is: 1\n"
          ],
          "name": "stdout"
        }
      ]
    },
    {
      "cell_type": "code",
      "metadata": {
        "colab_type": "code",
        "id": "vr2J_UHm0vRK",
        "colab": {}
      },
      "source": [
        ""
      ],
      "execution_count": 0,
      "outputs": []
    }
  ]
}